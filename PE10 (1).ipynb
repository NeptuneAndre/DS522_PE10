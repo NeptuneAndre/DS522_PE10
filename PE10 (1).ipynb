{
 "cells": [
  {
   "cell_type": "markdown",
   "metadata": {},
   "source": [
    "## PE 10: Time Series Data Analysis in Pandas"
   ]
  },
  {
   "cell_type": "markdown",
   "metadata": {},
   "source": [
    "In this exercise, you will retrieve historical stock data from Yahoo Finance using the yfinance library, and perform a series of time series manipulations using Python and Pandas. You will explore concepts such as datetime.datetime, formatting and parsing dates, Pandas time series basics, creating date ranges, working with different frequencies, shifting, resampling, frequency conversion, moving windows, and plotting the data.\n",
    "\n",
    "Libraries Required:\n",
    "    1. pandas\n",
    "    2. yfinance\n",
    "    3. matplotlib"
   ]
  },
  {
   "cell_type": "markdown",
   "metadata": {},
   "source": [
    "#### 1. Install and import the necessary libraries: pandas, yfinance, and matplotlib."
   ]
  },
  {
   "cell_type": "markdown",
   "metadata": {},
   "source": [
    "#### 2. Retrieve Historical Stock Data:\n",
    "\n",
    "> Use the yfinance library to download historical stock data for a company of your choice (e.g., Apple Inc., ticker: AAPL).\n",
    "\n",
    "> Retrieve data for the past 2 years."
   ]
  },
  {
   "cell_type": "markdown",
   "metadata": {},
   "source": [
    "#### 3. Explore your data and perform necessary data cleaning and preparation:\n",
    "\n",
    "Handling Missing Data and Duplicates\n",
    "\n",
    "> Identify any missing data in the time series.\n",
    "\n",
    "> Use different techniques to handle missing data, such as forward fill, backward fill, and interpolation.\n",
    "\n",
    "> Identify and remove duplicates\n",
    "\n",
    "Parse dates\n",
    "\n",
    "> ensure that you have parse the date column into a datetime format and you are using the date column as the index."
   ]
  },
  {
   "cell_type": "markdown",
   "metadata": {},
   "source": [
    "#### 4. Create a variable that stores the formated date that displast a 'Month-Day-Year' format."
   ]
  },
  {
   "cell_type": "markdown",
   "metadata": {},
   "source": [
    "#### 5. Time Series Basics\n",
    "\n",
    "Explore the basic attributes of the time series:\n",
    "1. index frequency\n",
    "2. first date\n",
    "3. last date\n",
    "4. time period covered\n",
    "\n",
    "> Hint: use min(), max(), index()"
   ]
  },
  {
   "cell_type": "markdown",
   "metadata": {},
   "source": [
    "#### 6. Creating Date Ranges and Frequencies\n",
    "\n",
    "Create a new date range that represents the last business day of each month (BM frequency) and filter the original DataFrame to include only these dates."
   ]
  },
  {
   "cell_type": "markdown",
   "metadata": {},
   "source": [
    "#### 7. Shifting and Rolling Windows\n",
    "\n",
    "Shift the stock prices by 1 day forward and backward.\n",
    "\n",
    "Calculate a 7-day rolling mean of the Close price."
   ]
  },
  {
   "cell_type": "markdown",
   "metadata": {},
   "source": [
    "#### 8. Resampling and Frequency Conversion\n",
    "\n",
    "Resample the stock data to a weekly frequency, calculating the mean Close price for each week.\n",
    "\n",
    "Resample the stock data to an hourly frequency, fill the missing values with mean values."
   ]
  },
  {
   "cell_type": "markdown",
   "metadata": {},
   "source": [
    "#### 9. Moving Windows\n",
    "\n",
    "Apply a moving window calculation on the stock prices to determine the 30-day moving average.\n",
    "\n",
    "Plot the original Close price and the 30-day moving average on the same graph."
   ]
  },
  {
   "cell_type": "markdown",
   "metadata": {},
   "source": [
    "#### 10. Percentage Change\n",
    "Calculate the percentage change of the stock close price and the rolling standard deviation over a 30-day period.\n",
    "\n",
    "Plot the results with the original 'Close' price."
   ]
  },
  {
   "cell_type": "markdown",
   "metadata": {},
   "source": [
    "#### 11. Expanding Mean\n",
    "Calculate the expanding mean of the above output then plot both."
   ]
  },
  {
   "cell_type": "markdown",
   "metadata": {},
   "source": [
    "#### 12. Exponentially Weighted Moving Average\n",
    "Calculate the exponentially weighted moving average of the stock close price over a 30-day period.\n",
    "\n",
    "Plot the above output with the original close price, 30-day moving average from Step 9. Customize the plot to show the title, legend with labels, and different line style and colors to differentiate each."
   ]
  }
 ],
 "metadata": {
  "language_info": {
   "name": "python"
  }
 },
 "nbformat": 4,
 "nbformat_minor": 2
}
